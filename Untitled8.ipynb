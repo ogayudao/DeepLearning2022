{
  "nbformat": 4,
  "nbformat_minor": 0,
  "metadata": {
    "colab": {
      "provenance": [],
      "authorship_tag": "ABX9TyNvpLyoBOtYCWmmKYXrVSzt",
      "include_colab_link": true
    },
    "kernelspec": {
      "name": "python3",
      "display_name": "Python 3"
    },
    "language_info": {
      "name": "python"
    }
  },
  "cells": [
    {
      "cell_type": "markdown",
      "metadata": {
        "id": "view-in-github",
        "colab_type": "text"
      },
      "source": [
        "<a href=\"https://colab.research.google.com/github/ogayudao/DeepLearning2022/blob/main/Untitled8.ipynb\" target=\"_parent\"><img src=\"https://colab.research.google.com/assets/colab-badge.svg\" alt=\"Open In Colab\"/></a>"
      ]
    },
    {
      "cell_type": "code",
      "execution_count": 2,
      "metadata": {
        "id": "NV24r0VxH5vn"
      },
      "outputs": [],
      "source": [
        "from keras.models import Sequential,Model\n",
        "from keras.layers import Conv2D\n",
        "from keras.utils import np_utils\n",
        "from IPython.display import SVG\n",
        "from keras.utils.vis_utils import model_to_dot"
      ]
    },
    {
      "cell_type": "code",
      "source": [
        "import keras\n",
        "model = Sequential()\n",
        "model.add( Conv2D(filters=3,\n",
        "                 kernel_size=(3,3),\n",
        "                 input_shape=(6,6,1),\n",
        "                 name='Conv2D_1'\n",
        "                 ))"
      ],
      "metadata": {
        "id": "xEexdhB1KT04"
      },
      "execution_count": 5,
      "outputs": []
    },
    {
      "cell_type": "code",
      "source": [
        "SVG(model_to_dot(model,show_shapes=True).create(prog='dot',format='svg'))"
      ],
      "metadata": {
        "colab": {
          "base_uri": "https://localhost:8080/",
          "height": 267
        },
        "id": "ha3_dQx0LLoP",
        "outputId": "24745ddf-7ecd-4c12-b7a0-6b7a8156c73d"
      },
      "execution_count": 7,
      "outputs": [
        {
          "output_type": "execute_result",
          "data": {
            "text/plain": [
              "<IPython.core.display.SVG object>"
            ],
            "image/svg+xml": "<svg height=\"184pt\" viewBox=\"0.00 0.00 296.00 138.00\" width=\"395pt\" xmlns=\"http://www.w3.org/2000/svg\" xmlns:xlink=\"http://www.w3.org/1999/xlink\">\n<g class=\"graph\" id=\"graph0\" transform=\"scale(1.3333 1.3333) rotate(0) translate(4 134)\">\n<title>G</title>\n<polygon fill=\"#ffffff\" points=\"-4,4 -4,-134 292,-134 292,4 -4,4\" stroke=\"transparent\"/>\n<!-- 140162095833808 -->\n<g class=\"node\" id=\"node1\">\n<title>140162095833808</title>\n<polygon fill=\"none\" points=\"0,-83.5 0,-129.5 288,-129.5 288,-83.5 0,-83.5\" stroke=\"#000000\"/>\n<text fill=\"#000000\" font-family=\"Times,serif\" font-size=\"14.00\" text-anchor=\"middle\" x=\"59.5\" y=\"-114.3\">Conv2D_1_input</text>\n<polyline fill=\"none\" points=\"0,-106.5 119,-106.5 \" stroke=\"#000000\"/>\n<text fill=\"#000000\" font-family=\"Times,serif\" font-size=\"14.00\" text-anchor=\"middle\" x=\"59.5\" y=\"-91.3\">InputLayer</text>\n<polyline fill=\"none\" points=\"119,-83.5 119,-129.5 \" stroke=\"#000000\"/>\n<text fill=\"#000000\" font-family=\"Times,serif\" font-size=\"14.00\" text-anchor=\"middle\" x=\"148\" y=\"-114.3\">input:</text>\n<polyline fill=\"none\" points=\"119,-106.5 177,-106.5 \" stroke=\"#000000\"/>\n<text fill=\"#000000\" font-family=\"Times,serif\" font-size=\"14.00\" text-anchor=\"middle\" x=\"148\" y=\"-91.3\">output:</text>\n<polyline fill=\"none\" points=\"177,-83.5 177,-129.5 \" stroke=\"#000000\"/>\n<text fill=\"#000000\" font-family=\"Times,serif\" font-size=\"14.00\" text-anchor=\"middle\" x=\"232.5\" y=\"-114.3\">[(None, 6, 6, 1)]</text>\n<polyline fill=\"none\" points=\"177,-106.5 288,-106.5 \" stroke=\"#000000\"/>\n<text fill=\"#000000\" font-family=\"Times,serif\" font-size=\"14.00\" text-anchor=\"middle\" x=\"232.5\" y=\"-91.3\">[(None, 6, 6, 1)]</text>\n</g>\n<!-- 140162165742800 -->\n<g class=\"node\" id=\"node2\">\n<title>140162165742800</title>\n<polygon fill=\"none\" points=\"23,-.5 23,-46.5 265,-46.5 265,-.5 23,-.5\" stroke=\"#000000\"/>\n<text fill=\"#000000\" font-family=\"Times,serif\" font-size=\"14.00\" text-anchor=\"middle\" x=\"64\" y=\"-31.3\">Conv2D_1</text>\n<polyline fill=\"none\" points=\"23,-23.5 105,-23.5 \" stroke=\"#000000\"/>\n<text fill=\"#000000\" font-family=\"Times,serif\" font-size=\"14.00\" text-anchor=\"middle\" x=\"64\" y=\"-8.3\">Conv2D</text>\n<polyline fill=\"none\" points=\"105,-.5 105,-46.5 \" stroke=\"#000000\"/>\n<text fill=\"#000000\" font-family=\"Times,serif\" font-size=\"14.00\" text-anchor=\"middle\" x=\"134\" y=\"-31.3\">input:</text>\n<polyline fill=\"none\" points=\"105,-23.5 163,-23.5 \" stroke=\"#000000\"/>\n<text fill=\"#000000\" font-family=\"Times,serif\" font-size=\"14.00\" text-anchor=\"middle\" x=\"134\" y=\"-8.3\">output:</text>\n<polyline fill=\"none\" points=\"163,-.5 163,-46.5 \" stroke=\"#000000\"/>\n<text fill=\"#000000\" font-family=\"Times,serif\" font-size=\"14.00\" text-anchor=\"middle\" x=\"214\" y=\"-31.3\">(None, 6, 6, 1)</text>\n<polyline fill=\"none\" points=\"163,-23.5 265,-23.5 \" stroke=\"#000000\"/>\n<text fill=\"#000000\" font-family=\"Times,serif\" font-size=\"14.00\" text-anchor=\"middle\" x=\"214\" y=\"-8.3\">(None, 4, 4, 3)</text>\n</g>\n<!-- 140162095833808&#45;&gt;140162165742800 -->\n<g class=\"edge\" id=\"edge1\">\n<title>140162095833808-&gt;140162165742800</title>\n<path d=\"M144,-83.3799C144,-75.1745 144,-65.7679 144,-56.8786\" fill=\"none\" stroke=\"#000000\"/>\n<polygon fill=\"#000000\" points=\"147.5001,-56.784 144,-46.784 140.5001,-56.784 147.5001,-56.784\" stroke=\"#000000\"/>\n</g>\n</g>\n</svg>"
          },
          "metadata": {},
          "execution_count": 7
        }
      ]
    },
    {
      "cell_type": "code",
      "source": [],
      "metadata": {
        "id": "1ML55oXAODx8"
      },
      "execution_count": null,
      "outputs": []
    }
  ]
}