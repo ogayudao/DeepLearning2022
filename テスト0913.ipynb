{
  "nbformat": 4,
  "nbformat_minor": 0,
  "metadata": {
    "colab": {
      "provenance": [],
      "authorship_tag": "ABX9TyPynDjhyQfMrxY43Gixwe9H",
      "include_colab_link": true
    },
    "kernelspec": {
      "name": "python3",
      "display_name": "Python 3"
    },
    "language_info": {
      "name": "python"
    }
  },
  "cells": [
    {
      "cell_type": "markdown",
      "metadata": {
        "id": "view-in-github",
        "colab_type": "text"
      },
      "source": [
        "<a href=\"https://colab.research.google.com/github/ogayudao/DeepLearning2022/blob/main/%E3%83%86%E3%82%B9%E3%83%880913.ipynb\" target=\"_parent\"><img src=\"https://colab.research.google.com/assets/colab-badge.svg\" alt=\"Open In Colab\"/></a>"
      ]
    },
    {
      "cell_type": "code",
      "execution_count": 1,
      "metadata": {
        "id": "ZXUshB49UyH9"
      },
      "outputs": [],
      "source": [
        "# リスト型"
      ]
    },
    {
      "cell_type": "code",
      "source": [
        "list =['アップル','ペン','ペン','パイナップル']\n",
        "print(list)\n",
        "print(list[1]+list[2])"
      ],
      "metadata": {
        "colab": {
          "base_uri": "https://localhost:8080/"
        },
        "id": "Gyql8Ch1VU0G",
        "outputId": "d80e05b9-aaea-4d1d-f8a6-23229ddec24d"
      },
      "execution_count": 2,
      "outputs": [
        {
          "output_type": "stream",
          "name": "stdout",
          "text": [
            "['アップル', 'ペン', 'ペン', 'パイナップル']\n",
            "ペンペン\n"
          ]
        }
      ]
    },
    {
      "cell_type": "code",
      "source": [
        "#タプル\n",
        "tuple = ('アップル','ペン','ペン','パイナップル')\n",
        "print(tuple)\n",
        "print(tuple[1]+tuple[2])"
      ],
      "metadata": {
        "colab": {
          "base_uri": "https://localhost:8080/"
        },
        "id": "zVMBJMm-WAEw",
        "outputId": "a09cdf21-1481-4fab-95eb-660d378dd0fd"
      },
      "execution_count": 3,
      "outputs": [
        {
          "output_type": "stream",
          "name": "stdout",
          "text": [
            "('アップル', 'ペン', 'ペン', 'パイナップル')\n",
            "ペンペン\n"
          ]
        }
      ]
    },
    {
      "cell_type": "markdown",
      "source": [
        "構成を変更できるのはリスト\n",
        "構成を変更できないのがタプル"
      ],
      "metadata": {
        "id": "4Kaqw4G2XfjT"
      }
    },
    {
      "cell_type": "code",
      "source": [
        "#リストの構成変更\n",
        "print(list)\n",
        "list.append(100)#文字列データのリストにあえて数値を追加\n",
        "print(list)\n",
        "del list[2]#リストの三番目を削除\n",
        "print(list)\n",
        "list[3] ='ペン'\n",
        "print(list)\n",
        "list.insert(2,'ペン')\n",
        "print(list)"
      ],
      "metadata": {
        "colab": {
          "base_uri": "https://localhost:8080/"
        },
        "id": "MoUlAJbNWpbi",
        "outputId": "501491e9-30ec-4738-ae86-3d040751d1ec"
      },
      "execution_count": 5,
      "outputs": [
        {
          "output_type": "stream",
          "name": "stdout",
          "text": [
            "['アップル', 'ペン', 'パイナップル', 'ペン']\n",
            "['アップル', 'ペン', 'パイナップル', 'ペン', 100]\n",
            "['アップル', 'ペン', 'ペン', 100]\n",
            "['アップル', 'ペン', 'ペン', 'ペン']\n",
            "['アップル', 'ペン', 'ペン', 'ペン', 'ペン']\n"
          ]
        }
      ]
    },
    {
      "cell_type": "markdown",
      "source": [
        "リストやタプルの長さの取得"
      ],
      "metadata": {
        "id": "8tXzFPvbbM7F"
      }
    },
    {
      "cell_type": "code",
      "source": [
        "print(list)\n",
        "print(len(list))#len()で長さを取得する\n"
      ],
      "metadata": {
        "colab": {
          "base_uri": "https://localhost:8080/"
        },
        "id": "CsC1aLm5ZAKW",
        "outputId": "8b65914c-a1da-4f69-9968-5731db829152"
      },
      "execution_count": 6,
      "outputs": [
        {
          "output_type": "stream",
          "name": "stdout",
          "text": [
            "['アップル', 'ペン', 'ペン', 'ペン', 'ペン']\n",
            "5\n"
          ]
        }
      ]
    },
    {
      "cell_type": "markdown",
      "source": [
        "データを抽出する(データを一部分取り出す)"
      ],
      "metadata": {
        "id": "qcv1J2NHb8QN"
      }
    },
    {
      "cell_type": "code",
      "source": [
        "print(list)\n",
        "print(list[1])#何番目の要素の指定の仕方と同じ考え方\n",
        "print(list[1:3])#一番目から三番目の範囲を指定＝スライス\n",
        "print(list[1:])#一番目から最後まで抽出(スライス)"
      ],
      "metadata": {
        "colab": {
          "base_uri": "https://localhost:8080/"
        },
        "id": "PD66_Ij2btsL",
        "outputId": "11d0bc79-4ba9-44cf-eeb2-614305903bce"
      },
      "execution_count": 9,
      "outputs": [
        {
          "output_type": "stream",
          "name": "stdout",
          "text": [
            "['アップル', 'ペン', 'ペン', 'ペン', 'ペン']\n",
            "ペン\n",
            "['ペン', 'ペン']\n",
            "['ペン', 'ペン', 'ペン', 'ペン']\n"
          ]
        }
      ]
    },
    {
      "cell_type": "markdown",
      "source": [
        "SET型（集合型）\n",
        "集合型SETは、順番を持たない。重複したデータも持たない"
      ],
      "metadata": {
        "id": "N2Wb9A1veV7G"
      }
    },
    {
      "cell_type": "code",
      "source": [
        "#uniqという名前のset型変数を作る\n",
        "uniq = set (['アップル','ペン','ペン','パイナップル'])\n",
        "print(uniq)#リストの時点では'ペン'が重複できていたが、set型になって重複が消える"
      ],
      "metadata": {
        "colab": {
          "base_uri": "https://localhost:8080/"
        },
        "id": "ziC6YonEceVQ",
        "outputId": "dd04346b-b64e-4721-fc75-d6a287991caf"
      },
      "execution_count": 10,
      "outputs": [
        {
          "output_type": "stream",
          "name": "stdout",
          "text": [
            "{'ペン', 'パイナップル', 'アップル'}\n"
          ]
        }
      ]
    },
    {
      "cell_type": "markdown",
      "source": [
        "集合型の追加変更削除"
      ],
      "metadata": {
        "id": "IXjvEuMdg1ms"
      }
    },
    {
      "cell_type": "code",
      "source": [
        "print(uniq)\n",
        "uniq.add('バナナ')#追加\n",
        "uniq.remove('ペン')#削除\n",
        "print(uniq)"
      ],
      "metadata": {
        "colab": {
          "base_uri": "https://localhost:8080/"
        },
        "id": "J7loMe5WgmZf",
        "outputId": "09dde725-95b0-4b63-c603-57807dfe5578"
      },
      "execution_count": 11,
      "outputs": [
        {
          "output_type": "stream",
          "name": "stdout",
          "text": [
            "{'ペン', 'パイナップル', 'アップル'}\n",
            "{'バナナ', 'パイナップル', 'アップル'}\n"
          ]
        }
      ]
    },
    {
      "cell_type": "markdown",
      "source": [
        "集合演算\n",
        "包括、積、和、差分"
      ],
      "metadata": {
        "id": "f5YqI4J5iPet"
      }
    },
    {
      "cell_type": "code",
      "source": [
        "# uniqの値を再定義\n",
        "uniq= set(['アップル','ペン','ペン','パイナップル'])\n",
        "a = set(['アップル','ペン'])\n",
        "b = set(['ペン','パイナップル'])\n",
        "print(uniq)\n",
        "print(a)\n",
        "print(b)\n",
        "#集合a は　集合uniqのsubset(部分集合)である？＝包括関係\n",
        "a.issubset(uniq)\n",
        "#データ'ペン'は集合aの中にある？\n",
        "'ペン'in a"
      ],
      "metadata": {
        "colab": {
          "base_uri": "https://localhost:8080/"
        },
        "id": "j3Ry1GhFhyez",
        "outputId": "548cce0e-5ae8-42c3-8a6c-ab38e801cc76"
      },
      "execution_count": 13,
      "outputs": [
        {
          "output_type": "stream",
          "name": "stdout",
          "text": [
            "{'ペン', 'パイナップル', 'アップル'}\n",
            "{'ペン', 'アップル'}\n",
            "{'ペン', 'パイナップル'}\n"
          ]
        },
        {
          "output_type": "execute_result",
          "data": {
            "text/plain": [
              "True"
            ]
          },
          "metadata": {},
          "execution_count": 13
        }
      ]
    },
    {
      "cell_type": "code",
      "source": [
        "#ある集合と別の集合の共通部分の要素(intersection)\n",
        "#集合aと集合bの共通部分\n",
        "print(a)\n",
        "print(b)\n",
        "print(a.intersection(b))#集合aのデータで集合bに共通のもの:積\n",
        "#集合aと集合bの結合:和集合:(setなので重複は削除される)\n",
        "a.union(b)#集合aと集合bの集まり\n",
        "#集合aと集合bの差集合\n",
        "a.difference(b)#aからbを取り除いた残り(差分:difference)"
      ],
      "metadata": {
        "colab": {
          "base_uri": "https://localhost:8080/"
        },
        "id": "qISWpJGOjN6m",
        "outputId": "58c759c9-734f-4f2b-9a3b-ccfb33480598"
      },
      "execution_count": 18,
      "outputs": [
        {
          "output_type": "stream",
          "name": "stdout",
          "text": [
            "{'ペン', 'アップル'}\n",
            "{'ペン', 'パイナップル'}\n",
            "{'ペン'}\n"
          ]
        },
        {
          "output_type": "execute_result",
          "data": {
            "text/plain": [
              "{'アップル'}"
            ]
          },
          "metadata": {},
          "execution_count": 18
        }
      ]
    },
    {
      "cell_type": "code",
      "source": [],
      "metadata": {
        "id": "ATdK3frGqa02"
      },
      "execution_count": null,
      "outputs": []
    }
  ]
}